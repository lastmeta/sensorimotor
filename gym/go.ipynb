{
 "cells": [
  {
   "cell_type": "code",
   "execution_count": 1,
   "id": "54a6438c-bcb0-4adf-945d-979f5e4b71fb",
   "metadata": {},
   "outputs": [],
   "source": [
    "import gym\n",
    "\n",
    "go_env = gym.make('gym_go:go-v0', size=7, komi=0, reward_method='real')\n",
    "\n",
    "first_action = (2,5)\n",
    "second_action = (5,2)\n",
    "# Game loop\n",
    "done = False\n",
    "while not done:\n",
    "state, reward, done, info = go_env.step(first_action)\n",
    "go_env.render('terminal')"
   ]
  },
  {
   "cell_type": "code",
   "execution_count": 4,
   "id": "f7848efd-aa9f-4a41-a485-2ac7f0d2b66f",
   "metadata": {},
   "outputs": [
    {
     "name": "stdout",
     "output_type": "stream",
     "text": [
      "    0   1   2   3   4   5   6\n",
      "  -----------------------------\n",
      "0 | . | . | . | . | . | . | . |\n",
      "  -----------------------------\n",
      "1 | . | . | . | . | . | . | . |\n",
      "  -----------------------------\n",
      "2 | . | . | . | . | . | B | . |\n",
      "  -----------------------------\n",
      "3 | . | . | . | . | . | . | . |\n",
      "  -----------------------------\n",
      "4 | . | . | . | . | . | . | . |\n",
      "  -----------------------------\n",
      "5 | . | . | . | . | . | . | . |\n",
      "  -----------------------------\n",
      "6 | . | . | . | . | . | . | . |\n",
      "  -----------------------------\n",
      "\tTurn: W, Last Turn Passed: False, Game Over: 0\n",
      "\tBlack Area: 49.0, White Area: 0.0\n",
      "\n"
     ]
    }
   ],
   "source": []
  },
  {
   "cell_type": "code",
   "execution_count": 2,
   "id": "1c581fa0-b6e6-42e9-8c0f-956a6b6f7b75",
   "metadata": {},
   "outputs": [
    {
     "data": {
      "text/plain": [
       "\u001b[1;31mSignature:\u001b[0m \u001b[0mgo_env\u001b[0m\u001b[1;33m.\u001b[0m\u001b[0mrender\u001b[0m\u001b[1;33m(\u001b[0m\u001b[0mmode\u001b[0m\u001b[1;33m=\u001b[0m\u001b[1;34m'terminal'\u001b[0m\u001b[1;33m)\u001b[0m\u001b[1;33m\u001b[0m\u001b[1;33m\u001b[0m\u001b[0m\n",
       "\u001b[1;31mDocstring:\u001b[0m\n",
       "Renders the environment.\n",
       "\n",
       "The set of supported modes varies per environment. (And some\n",
       "environments do not support rendering at all.) By convention,\n",
       "if mode is:\n",
       "\n",
       "- human: render to the current display or terminal and\n",
       "  return nothing. Usually for human consumption.\n",
       "- rgb_array: Return an numpy.ndarray with shape (x, y, 3),\n",
       "  representing RGB values for an x-by-y pixel image, suitable\n",
       "  for turning into a video.\n",
       "- ansi: Return a string (str) or StringIO.StringIO containing a\n",
       "  terminal-style text representation. The text can include newlines\n",
       "  and ANSI escape sequences (e.g. for colors).\n",
       "\n",
       "Note:\n",
       "    Make sure that your class's metadata 'render.modes' key includes\n",
       "      the list of supported modes. It's recommended to call super()\n",
       "      in implementations to use the functionality of this method.\n",
       "\n",
       "Args:\n",
       "    mode (str): the mode to render with\n",
       "\n",
       "Example:\n",
       "\n",
       "class MyEnv(Env):\n",
       "    metadata = {'render.modes': ['human', 'rgb_array']}\n",
       "\n",
       "    def render(self, mode='human'):\n",
       "        if mode == 'rgb_array':\n",
       "            return np.array(...) # return RGB frame suitable for video\n",
       "        elif mode == 'human':\n",
       "            ... # pop up a window and render\n",
       "        else:\n",
       "            super(MyEnv, self).render(mode=mode) # just raise an exception\n",
       "\u001b[1;31mFile:\u001b[0m      c:\\repos\\sensorimotor\\gym\\gymgo\\gym_go\\envs\\go_env.py\n",
       "\u001b[1;31mType:\u001b[0m      method\n"
      ]
     },
     "metadata": {},
     "output_type": "display_data"
    }
   ],
   "source": []
  },
  {
   "cell_type": "code",
   "execution_count": null,
   "id": "ec758f6f-d2fe-4a46-b34e-d61ce1188270",
   "metadata": {},
   "outputs": [],
   "source": []
  }
 ],
 "metadata": {
  "kernelspec": {
   "display_name": "Python 3",
   "language": "python",
   "name": "python3"
  },
  "language_info": {
   "codemirror_mode": {
    "name": "ipython",
    "version": 3
   },
   "file_extension": ".py",
   "mimetype": "text/x-python",
   "name": "python",
   "nbconvert_exporter": "python",
   "pygments_lexer": "ipython3",
   "version": "3.9.4"
  }
 },
 "nbformat": 4,
 "nbformat_minor": 5
}
