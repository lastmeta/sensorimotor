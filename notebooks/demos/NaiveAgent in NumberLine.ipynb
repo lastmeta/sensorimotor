{
 "cells": [
  {
   "cell_type": "markdown",
   "metadata": {},
   "source": [
    "# Naive Agent in the NumberLine Environment\n",
    "\n",
    "This is the simplest agent exploring the Numberline environment. The Naive agent moves randomly and memorizes where it has been in a tree. The NumberLine environment has 5 available actions corresponding to +0 +1 -1 +10 and -9, with these five actions the naïve agent traverses the natural numbers. Once it has explored at random for 1000 actions you can ask it to move anywhere on the number line it has seen before: moving on the number line is exactly the same thing as manipulating the environment since in this environment the only thing the agent can manipulate is it's position in the environment. Still, no matter the complexity of the environment the agent can be thought of as merely traversing its state-space just as it traverses the natural numbers in this simple environment."
   ]
  },
  {
   "cell_type": "markdown",
   "metadata": {},
   "source": [
    "First we import the agent and the environment..."
   ]
  },
  {
   "cell_type": "code",
   "execution_count": 1,
   "metadata": {},
   "outputs": [],
   "source": [
    "from sensorimotor.agents import NaiveSensorimotor\n",
    "from sensorimotor.envs import NumberLine\n",
    "\n",
    "import time"
   ]
  },
  {
   "cell_type": "markdown",
   "metadata": {},
   "source": [
    "Initialize the Environment and the Agent..."
   ]
  },
  {
   "cell_type": "code",
   "execution_count": 2,
   "metadata": {},
   "outputs": [],
   "source": [
    "env = NumberLine()\n",
    "agent = NaiveSensorimotor(env)"
   ]
  },
  {
   "cell_type": "markdown",
   "metadata": {},
   "source": [
    "Training: allow the agent to explore (at random in this case)..."
   ]
  },
  {
   "cell_type": "code",
   "execution_count": 3,
   "metadata": {},
   "outputs": [
    {
     "name": "stdout",
     "output_type": "stream",
     "text": [
      "334\r"
     ]
    }
   ],
   "source": [
    "agent.train(verbose=True)"
   ]
  },
  {
   "cell_type": "markdown",
   "metadata": {},
   "source": [
    "Now that it's done training, (via it's random walk) inspect which state of the environment it ended up on..."
   ]
  },
  {
   "cell_type": "code",
   "execution_count": 4,
   "metadata": {},
   "outputs": [
    {
     "data": {
      "text/plain": [
       "334"
      ]
     },
     "execution_count": 4,
     "metadata": {},
     "output_type": "execute_result"
    }
   ],
   "source": [
    "#entire_tree = agent.previous\n",
    "final_state = agent.previous.name\n",
    "final_state"
   ]
  },
  {
   "cell_type": "markdown",
   "metadata": {},
   "source": [
    "Let's look at a state of the environment it visited prior to its current location..."
   ]
  },
  {
   "cell_type": "code",
   "execution_count": 5,
   "metadata": {},
   "outputs": [
    {
     "data": {
      "text/plain": [
       "313"
      ]
     },
     "execution_count": 5,
     "metadata": {},
     "output_type": "execute_result"
    }
   ],
   "source": [
    "three_b4_final = agent.previous.parent.parent.parent.name\n",
    "three_b4_final"
   ]
  },
  {
   "cell_type": "markdown",
   "metadata": {},
   "source": [
    "Let's inspect how it got there by looking at the full detail of this node (the naive agent makes an explicit memory everytime it sees a new state)..."
   ]
  },
  {
   "cell_type": "code",
   "execution_count": 6,
   "metadata": {},
   "outputs": [
    {
     "data": {
      "text/plain": [
       "Node('/root/0/-1/-1/-10/-9/-8/2/12/22/21/21/22/22/21/22/23/14/5/-4/-4/6/7/-2/-11/-1/-10/-19/-20/-10/-19/-18/-27/-36/-37/-38/-47/-56/-56/-46/-46/-36/-45/-35/-44/-44/-34/-24/-33/-23/-22/-22/-22/-31/-30/-30/-30/-29/-38/-28/-29/-29/-28/-29/-19/-28/-27/-27/-36/-36/-35/-44/-44/-43/-33/-33/-33/-34/-24/-25/-24/-25/-25/-25/-24/-24/-23/-24/-25/-26/-25/-24/-23/-23/-13/-12/-21/-30/-30/-20/-29/-29/-19/-28/-27/-26/-16/-25/-24/-24/-23/-23/-32/-32/-22/-22/-31/-21/-22/-23/-32/-41/-40/-39/-39/-48/-57/-66/-75/-65/-65/-64/-63/-53/-43/-33/-23/-23/-23/-32/-31/-30/-20/-29/-38/-37/-38/-28/-28/-29/-28/-28/-18/-18/-27/-26/-16/-25/-34/-33/-32/-41/-42/-32/-32/-32/-33/-32/-22/-12/-11/-10/-10/-9/-9/-8/-8/-7/-6/-15/-14/-23/-22/-21/-30/-31/-32/-41/-31/-30/-30/-29/-30/-20/-20/-19/-19/-28/-18/-17/-18/-19/-19/-18/-27/-17/-7/3/4/4/5/4/5/4/14/5/-4/-5/-6/-6/-15/-5/-14/-4/6/-3/-2/-1/-10/0/-1/-2/-1/9/9/0/-1/9/10/20/21/22/32/23/23/24/15/14/15/25/25/35/45/44/43/42/42/41/41/51/52/43/53/53/63/62/53/53/44/44/54/55/65/75/66/66/67/58/49/48/39/40/50/41/42/33/32/31/22/13/12/22/23/33/34/33/32/42/41/42/33/33/24/23/33/43/53/52/53/52/43/44/35/26/17/18/19/10/1/1/1/2/3/13/14/5/6/-3/7/17/18/18/19/20/30/21/20/19/10/10/1/-8/-7/-8/-9/-9/-10/-19/-28/-37/-27/-36/-36/-37/-36/-36/-26/-35/-44/-34/-24/-24/-25/-25/-34/-43/-33/-23/-23/-32/-31/-21/-30/-20/-10/-19/-28/-18/-18/-18/-27/-27/-28/-27/-36/-37/-38/-37/-27/-28/-29/-30/-31/-21/-22/-21/-22/-23/-23/-32/-41/-42/-41/-40/-30/-29/-30/-39/-40/-41/-40/-41/-40/-41/-41/-40/-39/-29/-19/-18/-8/-9/1/11/10/11/2/3/2/-7/-7/-16/-6/-6/-6/-15/-16/-25/-24/-23/-24/-24/-24/-24/-23/-24/-24/-23/-24/-33/-33/-33/-32/-31/-32/-22/-21/-21/-20/-10/-19/-28/-27/-28/-28/-18/-19/-9/-8/-17/-7/-7/3/3/13/23/33/32/32/33/32/32/42/33/33/24/24/25/24/34/25/26/27/27/28/29/20/21/21/21/12/3/4/5/-4/-3/-3/7/7/7/7/8/9/0/10/9/0/-9/-10/-10/-9/-9/-18/-17/-7/3/-6/-7/3/3/4/4/4/14/24/15/25/35/34/33/43/43/42/33/43/43/43/42/33/32/42/52/53/63/62/53/54/54/53/53/53/52/51/42/52/43/43/42/43/44/54/54/45/55/54/45/55/65/66/76/77/76/86/77/78/88/88/89/89/89/90/89/89/89/88/89/89/88/98/108/109/109/119/120/121/122/121/120/130/140/131/122/132/142/141/151/152/152/152/143/134/133/124/125/126/125/135/136/137/128/138/129/129/120/119/120/119/129/130/129/139/149/140/131/122/113/114/105/96/87/86/86/87/86/87/86/86/87/97/96/106/116/117/127/127/127/126/125/126/125/124/125/124/125/135/134/134/134/144/143/142/143/153/154/145/136/137/136/146/137/136/146/146/145/155/156/156/147/147/147/148/147/146/146/156/156/156/147/146/137/136/137/128/127/127/127/128/138/148/147/138/137/128/129/120/111/112/112/113/113/123/133/124/124/134/144/145/145/136/137/138/138/148/139/139/149/159/169/179/179/180/190/191/182/181/172/173/173/164/174/174/175/166/166/167/167/168/169/170/180/190/181/181/172/171/162/162/161/161/162/161/161/162/153/144/154/155/155/165/164/163/163/163/173/172/163/164/165/165/156/157/148/158/159/158/157/156/156/155/165/164/164/163/154/164/165/175/174/165/175/185/185/195/205/204/195/186/186/185/185/185/195/205/204/214/214/214/213/212/222/223/233/232/233/232/231/232/233/232/223/214/215/225/235/234/244/254/255/246/246/237/236/237/237/236/236/236/236/237/236/237/238/248/249/250/251/242/233/234/225/216/226/225/235/236/227/227/228/227/218/217/208/209/219/218/228/227/226/225/225/235/235/234/234/244/254/253/254/254/253/244/245/245/236/237/228/238/248/258/258/268/278/269/268/267/266/257/256/266/276/277/276/267/277/287/297/288/287/288/288/298/298/298/308/299/298/308/309/319/319/320/311/311/311/310/310/301/302/312/303/294/285/286/286/277/276/277/277/277/277/278/278/279/279/289/290/290/281/291/301/292/283/282/292/302/302/303/313/304/314/315/325/325/324/323/323/314/313/323/324/334', edge=3)"
      ]
     },
     "execution_count": 6,
     "metadata": {},
     "output_type": "execute_result"
    }
   ],
   "source": [
    "agent.previous"
   ]
  },
  {
   "cell_type": "markdown",
   "metadata": {},
   "source": [
    "Notice the last action it took (to get to its current state) is listed as 'edge' above.\n",
    "```\n",
    "    0 = do nothing\n",
    "    1 = +1\n",
    "    2 = -1\n",
    "    3 = +10\n",
    "    4 = -9\n",
    "```\n",
    "And let's ask the agent to figure out how to get from somehting it has seen before to the last state of the environment that it saw..."
   ]
  },
  {
   "cell_type": "code",
   "execution_count": 7,
   "metadata": {},
   "outputs": [
    {
     "name": "stdout",
     "output_type": "stream",
     "text": [
      "going from 313 to 334 using the environment actions...\n",
      "[3, 1, 3]\n",
      "...which correspond to...\n",
      "['+10', '+1', '+10']\n"
     ]
    }
   ],
   "source": [
    "print('going from', three_b4_final, 'to', final_state, 'using the environment actions...')\n",
    "print(agent.get_path(target=final_state, start=three_b4_final))\n",
    "print('...which correspond to...')\n",
    "print([\n",
    "    {0: '+0', 1: '+1', 2: '-1', 3: '+10', 4: '-9'}.get(action, '+0')\n",
    "    for action in agent.get_path(target=final_state, start=three_b4_final)])"
   ]
  },
  {
   "cell_type": "markdown",
   "metadata": {},
   "source": [
    "Pretty cool, the agent knows how to manipulate the environment from one state to produce another state (that is, it knows how to traverse the state space of the environment, at least in this case)...\n",
    "\n",
    "Now let's actually ask it to do so. We'll reset the state to something it has seen before..."
   ]
  },
  {
   "cell_type": "code",
   "execution_count": 8,
   "metadata": {},
   "outputs": [
    {
     "data": {
      "text/plain": [
       "313"
      ]
     },
     "execution_count": 8,
     "metadata": {},
     "output_type": "execute_result"
    }
   ],
   "source": [
    "agent.reset(three_b4_final)"
   ]
  },
  {
   "cell_type": "markdown",
   "metadata": {},
   "source": [
    "Then we'll ask it to execute the steps to get to the last state of the environment saw..."
   ]
  },
  {
   "cell_type": "code",
   "execution_count": 9,
   "metadata": {},
   "outputs": [
    {
     "name": "stdout",
     "output_type": "stream",
     "text": [
      "[3, 1, 3]\n"
     ]
    },
    {
     "data": {
      "text/plain": [
       "334"
      ]
     },
     "execution_count": 9,
     "metadata": {},
     "output_type": "execute_result"
    }
   ],
   "source": [
    "agent.do(final_state, verbose=True)"
   ]
  },
  {
   "cell_type": "markdown",
   "metadata": {},
   "source": [
    "Let's try a longer environment manipulation: from the first thing the agent ever saw to the last thing the agent ever saw..."
   ]
  },
  {
   "cell_type": "code",
   "execution_count": 10,
   "metadata": {},
   "outputs": [
    {
     "name": "stdout",
     "output_type": "stream",
     "text": [
      "[3, 4, 3, 3, 2, 2, 3, 2, 4, 3, 2, 4, 2, 3, 3, 1, 3, 2, 4, 1, 2, 2, 2, 4, 3, 4, 2, 1, 1, 3, 4, 3, 2, 4, 3, 3, 1, 3, 1, 2, 3, 4, 1, 3, 1, 1, 2, 2, 1, 2, 3, 3, 1, 3, 1, 1, 1, 2, 2, 3, 3, 4, 4, 3, 3, 2, 3, 1, 4, 4, 2, 4, 1, 1, 2, 3, 1, 1, 4, 3, 4, 4, 2, 1, 2, 3, 1, 2, 3, 3, 4, 4, 4, 4, 1, 4, 4, 4, 2, 1, 2, 1, 2, 1, 3, 2, 3, 3, 1, 3, 2, 2, 1, 2, 2, 1, 2, 1, 3, 2, 3, 2, 2, 1, 3, 1, 4, 4, 1, 2, 3, 4, 2, 3, 2, 3, 1, 4, 1, 2, 2, 3, 4, 2, 4, 2, 1, 4, 2, 1, 3, 3, 2, 4, 2, 4, 1, 4, 4, 1, 1, 3, 3, 4, 3, 3, 1, 4, 1, 1, 3, 4, 3, 3, 3, 3, 1, 3, 1, 4, 2, 4, 1, 4, 3, 1, 4, 1, 1, 1, 1, 3, 3, 4, 4, 2, 4, 2, 1, 2, 1, 4, 4, 3, 1, 3, 2, 2, 3, 2, 4, 1, 1, 4, 1, 4, 3, 1, 2, 2, 2, 2, 3, 2, 2, 4, 3, 1, 3, 2, 4, 3, 3, 3, 3, 2, 4, 4, 2, 3, 3, 2, 3, 2, 2, 3, 1, 3, 2, 1, 2, 2, 1, 1, 2, 4, 4, 1, 3, 3, 2, 3, 3, 1, 4, 4, 2, 1, 2, 1, 2, 1, 1, 3, 1, 1, 1, 4, 4, 1, 4, 4, 3, 2, 3, 1, 4, 1, 2, 4, 2, 4, 1, 3, 2, 3, 2, 2, 2, 3, 2, 3, 3, 2, 1, 2, 4, 1, 4, 1, 4, 3, 3, 3, 3, 3, 4, 2, 2, 2, 4, 2, 3, 3, 1, 2, 4, 3, 3, 3, 4, 2, 1, 3, 3, 4, 2, 3, 1, 3, 1, 4, 2, 4, 1, 3, 4, 4, 4, 1, 4, 2, 1, 1, 1, 3, 1, 4, 3, 3, 4, 4, 2, 3, 3, 1, 3, 4, 3, 1, 3, 2, 2, 4, 2, 3, 1, 3]\n"
     ]
    }
   ],
   "source": [
    "print(agent.get_path(target=final_state, start=14))"
   ]
  },
  {
   "cell_type": "markdown",
   "metadata": {},
   "source": [
    "The above action-path may be less than 1000 steps, this is because the agent looks for the shortest path it has ever seen between the two state representations."
   ]
  },
  {
   "cell_type": "markdown",
   "metadata": {},
   "source": [
    "We'll close the environment..."
   ]
  },
  {
   "cell_type": "code",
   "execution_count": 11,
   "metadata": {},
   "outputs": [],
   "source": [
    "env.close()"
   ]
  },
  {
   "cell_type": "markdown",
   "metadata": {},
   "source": [
    "## Review\n",
    "\n",
    "The naive agent makes explicit memory, it doesn't generalize in any way. It doesn't understand patterns. It can't detect that this one kind of action is exactly the opposite from another kind of action. It can't extrapolate or draw conclusions. It is not intelligent.\n",
    "\n",
    "If the environment is small the agent is able to memorize the environment and produce any configuration of it that you would like. This is the essential role of any sensorimotor inference engine: that it can manipulate the environment it is connected to merely by you showing it the state of the environment you would like to see.\n",
    "\n",
    "In order to achieve scale such that a Sensorimotor agent can manipulate any size and complexity of a deterministic environment we need to infuse it with more intelligence."
   ]
  },
  {
   "cell_type": "code",
   "execution_count": null,
   "metadata": {},
   "outputs": [],
   "source": [
    "import anytree\n",
    "print(anytree.RenderTree(\n",
    "    agent.root,\n",
    "    #style=anytree.render.AsciiStyle()\n",
    "    )\n",
    " )"
   ]
  }
 ],
 "metadata": {
  "kernelspec": {
   "display_name": "Python 3 (ipykernel)",
   "language": "python",
   "name": "python3"
  },
  "language_info": {
   "codemirror_mode": {
    "name": "ipython",
    "version": 3
   },
   "file_extension": ".py",
   "mimetype": "text/x-python",
   "name": "python",
   "nbconvert_exporter": "python",
   "pygments_lexer": "ipython3",
   "version": "3.11.4"
  }
 },
 "nbformat": 4,
 "nbformat_minor": 4
}
