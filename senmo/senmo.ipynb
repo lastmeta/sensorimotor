{
 "cells": [
  {
   "cell_type": "markdown",
   "metadata": {},
   "source": [
    "# SenMo Net"
   ]
  },
  {
   "cell_type": "markdown",
   "metadata": {},
   "source": [
    "concepts:\n",
    "1. network\n",
    "2. layer\n",
    "3. neuron\n",
    "4. connection\n",
    "\n",
    "example: \n",
    "\n",
    "froward network:\n",
    "layer a predicts b, c, and d, with decreasing accuracy\n",
    "layer b predicts c, and d\n",
    "layer c predicts d\n",
    "layer d predicts nothing\n",
    "\n",
    "backwards network:\n",
    "layer d predicts c, b, and a, with decreasing accuracy\n",
    "layer c predicts b, and a\n",
    "layer b predicts a\n",
    "layer a predicts nothing\n",
    "\n",
    "forwards network competes against backwards network for the highest overall score of predictions. so, layer a in forward network competes against d in backwards network when it predicts d and d predicts a, whoever loses gets harsher errors applied. a also competes against b when they predict each other.\n",
    "\n",
    "predictions are applied in time. a gets activated and produces predictions for all subsequent layers at t=0, but its prediction for b layer is applied right away and checked at t=1, whereas its prediction for c layer is applied at t=1 and checked at t=2, etc.\n",
    "\n",
    "the backwards network is what trains the forward network, they replace back propogation for each other.\n",
    "\n",
    "to be used in a sensorimotor context - an autonomous agent exploring an environment. forward network can be thought of as the sensory network, \"given what I see (layer a), what motor neurons will fire (layer d)?\". backwards network can be seen as the motor network, \"given what motor neurons fire (layer d), what will I see (layer a)?\"\n",
    "\n",
    "this is the simplest form of the idea. for more efficiency shape as an autoencoder. for further efficiencies combine hierarchically."
   ]
  },
  {
   "cell_type": "code",
   "execution_count": null,
   "metadata": {},
   "outputs": [],
   "source": [
    "class Neuron():\n",
    "    def __init__(self, neurons):\n",
    "        self.neurons \n",
    "        "
   ]
  }
 ],
 "metadata": {
  "kernelspec": {
   "display_name": "Python 3",
   "language": "python",
   "name": "python3"
  },
  "language_info": {
   "codemirror_mode": {
    "name": "ipython",
    "version": 3
   },
   "file_extension": ".py",
   "mimetype": "text/x-python",
   "name": "python",
   "nbconvert_exporter": "python",
   "pygments_lexer": "ipython3",
   "version": "3.7.4"
  }
 },
 "nbformat": 4,
 "nbformat_minor": 4
}
